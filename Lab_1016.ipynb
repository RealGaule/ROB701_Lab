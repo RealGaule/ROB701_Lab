{
 "cells": [
  {
   "cell_type": "markdown",
   "id": "c6bff8f5",
   "metadata": {},
   "source": [
    "# ROB701@MBZUAI Fall 2025 - Lab 1009\n",
    "\n",
    "**TA:** Tianyu Liu  \n",
    "**Email:** [Tianyu.Liu@mbzuai.ac.ae](mailto:Tianyu.Liu@mbzuai.ac.ae)\n",
    "\n",
    "**Topic:** Dynamics\n",
    "\n",
    "Note: Code sections pending implementation are labeled “[To Be Implemented]”.\n",
    "\n",
    "<img src=\"https://raw.githubusercontent.com/RealGaule/ROB701_Lab/842ab4e9851bc4fcc03271e134283e67db776383/docs/Robotics.png\" width=\"320\">"
   ]
  },
  {
   "cell_type": "markdown",
   "id": "e54d7d59-603f-4b06-b449-11435dc90c5a",
   "metadata": {},
   "source": [
    "## 0.Three-Link Planar Robot\n",
    "Suppose we have a 3-link planar robot with three revolute joints (3R). The following code defines a parameter class for this robot.\n",
    "\n",
    "`Parameters` (class)\n",
    "\n",
    "**Purpose:** Collects the physical properties of the 3R planar manipulator (all scalars, SI units).\n",
    "\n",
    "**Fields & Physical Meaning**\n",
    "- `m1`, `m2`, `m3` *(kg)* — mass of link 1/2/3.\n",
    "- `Iz1`, `Iz2`, `Iz3` *(kg·m²)* — moment of inertia of each link about its joint axis (out of plane).\n",
    "- `l1`, `l2`, `l3` *(m)* — geometric length of link 1/2/3.\n",
    "- `g` *(m/s²)* — gravitational acceleration (default `9.81`).\n",
    "\n",
    "**Notes**\n",
    "- All angles are in **radians**; angular rates in **rad/s**; angular accelerations in **rad/s²**.\n",
    "- Joint axes are assumed at inter-link connection points; the mechanism is planar with 3 revolute joints.\n",
    "- The absolute reference of gravitational potential is conventional; only differences matter for energy conservation checks."
   ]
  },
  {
   "cell_type": "code",
   "execution_count": null,
   "id": "dc97e0cb-fc02-4c7e-a9f3-364a41b163e1",
   "metadata": {},
   "outputs": [],
   "source": [
    "import numpy as np\n",
    "from scipy.integrate import odeint\n",
    "from matplotlib import pyplot as plt\n",
    "from matplotlib import animation\n",
    "from dataclasses import dataclass\n",
    "from IPython.display import HTML\n",
    "\n",
    "@dataclass\n",
    "class Parameters:\n",
    "    m1: float = 1.0   # [kg]\n",
    "    m2: float = 1.0   # [kg]\n",
    "    m3: float = 0.2   # [kg]\n",
    "    Iz1: float = 0.1  # [kg·m^2]\n",
    "    Iz2: float = 0.1  # [kg·m^2]\n",
    "    Iz3: float = 0.02 # [kg·m^2]\n",
    "    l1: float = 1.0   # [m]\n",
    "    l2: float = 1.0   # [m]\n",
    "    l3: float = 0.25  # [m]\n",
    "    g: float = 9.81   # [m/s^2]"
   ]
  },
  {
   "cell_type": "markdown",
   "id": "7381d6ff-3046-41a4-b847-c331fe7398b7",
   "metadata": {},
   "source": [
    "## 1. Lagrange Dynamics\n",
    "\n",
    "`energy(t, z, p)` function\n",
    "\n",
    "**Purpose:** Compute kinetic energy (KE), gravitational potential energy (PE), and total energy (TE) at each time step.\n",
    "\n",
    "**Signature**\n",
    "- Inputs:\n",
    "  - `t`: `(m,) ndarray` — time grid in seconds. Used for alignment (not directly in formulas). Must satisfy `len(t) == z.shape[0]`.\n",
    "  - `z`: `(m, 6) ndarray` — state trajectory; each row is `[theta1, omega1, theta2, omega2, theta3, omega3]`.\n",
    "    - `theta*` in *rad*, `omega*` in *rad/s*.\n",
    "  - `p`: `Parameters` — physical parameters (m, kg, kg·m², m/s²).\n",
    "- Outputs:\n",
    "  - `KE`: `(m,) ndarray` — kinetic energy in *J*.\n",
    "  - `PE`: `(m,) ndarray` — gravitational potential energy in *J*.\n",
    "  - `TE`: `(m,) ndarray` — total energy in *J* = `KE + PE`.\n",
    "\n",
    "**Physical meaning**\n",
    "- KE includes link self-rotation terms and coupling cross-terms due to the mechanism.\n",
    "- PE is computed from link CoM heights times `g` (reference level is conventional).\n",
    "\n",
    "**Notes**\n",
    "- Expect small numerical drift in `TE` due to integration errors; that is normal.\n",
    "- Units must be consistent (meters, kilograms, seconds, radians).\n"
   ]
  },
  {
   "cell_type": "code",
   "execution_count": null,
   "id": "bb066922-6349-403d-825b-f80bd94fb903",
   "metadata": {},
   "outputs": [],
   "source": [
    "def energy(t: np.ndarray, z: np.ndarray, p: Parameters):\n",
    "    assert z.ndim == 2 and z.shape[1] == 6, \"z must have shape (m, 6)\"\n",
    "    assert len(t) == z.shape[0], \"len(t) must equal the number of rows in z\"\n",
    "\n",
    "    m1, m2, m3 = p.m1, p.m2, p.m3\n",
    "    Iz1, Iz2, Iz3 = p.Iz1, p.Iz2, p.Iz3\n",
    "    l1, l2, l3, g = p.l1, p.l2, p.l3, p.g\n",
    "\n",
    "    KE_all, PE_all, TE_all = [], [], []\n",
    "\n",
    "    # [To Be Implemented]\n",
    "\n",
    "    return np.array(KE_all), np.array(PE_all), np.array(TE_all)"
   ]
  },
  {
   "cell_type": "markdown",
   "id": "fee73fd8-4dc0-4839-a24f-d6a626a4f63d",
   "metadata": {},
   "source": [
    "\n",
    "\n",
    "`dynamics(z, t, m1, m2, m3, Iz1, Iz2, Iz3, l1, l2, l3, g)` function\n",
    "\n",
    "**Purpose:** Right-hand side of the first-order state dynamics $\\dot z = f(z,t)$ derived from the Lagrange model  \n",
    "$M(q)\\,\\ddot q + C(q,\\dot q) + G(q) = 0$. We assemble `z = [q, qdot]` and return `[qdot, qddot]`.\n",
    "\n",
    "**Signature**\n",
    "- Inputs:\n",
    "  - `z`: `(6,) ndarray` — current state `[theta1, omega1, theta2, omega2, theta3, omega3]` (rad, rad/s).\n",
    "  - `t`: `float` — current time (s). The model is time-invariant; included for ODE solver compatibility.\n",
    "  - `m1, m2, m3` *(kg)* — link masses.\n",
    "  - `Iz1, Iz2, Iz3` *(kg·m²)* — link inertias about joint axes.\n",
    "  - `l1, l2, l3` *(m)* — link lengths.\n",
    "  - `g` *(m/s²)* — gravity.\n",
    "- Outputs:\n",
    "  - `dzdt`: `(6,) ndarray` — time derivative `[omega1, alpha1, omega2, alpha2, omega3, alpha3]` (rad/s, rad/s²).\n",
    "\n",
    "**Notes**\n",
    "- External torques/damping are **not** included here; to add control, include torques on the right-hand side with consistent sign.\n",
    "- Numerical considerations: avoid forming `inv(M)` explicitly for performance/conditioning; here it is fine for small 3×3 systems.\n"
   ]
  },
  {
   "cell_type": "code",
   "execution_count": null,
   "id": "7dab612d-856a-497a-9d6a-8df48e65c17a",
   "metadata": {},
   "outputs": [],
   "source": [
    "\n",
    "\n",
    "def dynamics(z: np.ndarray, t: float,\n",
    "        m1: float, m2: float, m3: float,\n",
    "        Iz1: float, Iz2: float, Iz3: float,\n",
    "        l1: float, l2: float, l3: float, g: float) -> np.ndarray:\n",
    "    theta1, omega1, theta2, omega2, theta3, omega3 = z\n",
    "\n",
    "    # [To Be Implemented]\n",
    "\n",
    "    return np.array([omega1, qdd[0], omega2, qdd[1], omega3, qdd[2]])"
   ]
  },
  {
   "cell_type": "markdown",
   "id": "90315ce9-63bb-4815-a365-4a37b3ae9741",
   "metadata": {},
   "source": [
    "## 2. Simulation\n",
    "\n",
    "Integrate the state ODE using `scipy.integrate.odeint`"
   ]
  },
  {
   "cell_type": "code",
   "execution_count": null,
   "id": "5f5ef861-09bb-42b7-81eb-fa6760192dbc",
   "metadata": {},
   "outputs": [],
   "source": [
    "def simulate(t: np.ndarray, z0: np.ndarray, p: Parameters) -> np.ndarray:\n",
    "    assert z0.shape == (6,), \"z0 must have shape (6,)\"\n",
    "    args = (p.m1, p.m2, p.m3, p.Iz1, p.Iz2, p.Iz3, p.l1, p.l2, p.l3, p.g)\n",
    "    z = odeint(dynamics, z0, t, args=args)\n",
    "    return z\n",
    "\n",
    "def animate_planar_3R(t: np.ndarray, z: np.ndarray, p: Parameters) -> animation.FuncAnimation:\n",
    "    l1, l2, l3 = p.l1, p.l2, p.l3\n",
    "    fig, ax = plt.subplots()\n",
    "    ll = 1.1*(l1 + l2 + l3)\n",
    "    ax.set_xlim(-ll, ll); ax.set_ylim(-ll, ll); ax.set_aspect('equal')\n",
    "    ax.set_xlabel('x [m]'); ax.set_ylabel('y [m]')\n",
    "    ax.set_title('Planar 3R Motion')\n",
    "\n",
    "    # Lines and markers\n",
    "    line1, = ax.plot([], [], lw=2)\n",
    "    line2, = ax.plot([], [], lw=2)\n",
    "    line3, = ax.plot([], [], lw=2)\n",
    "    com1, = ax.plot([], [], 'o', markersize=6)\n",
    "    com2, = ax.plot([], [], 'o', markersize=6)\n",
    "    com3, = ax.plot([], [], 'o', markersize=6)\n",
    "\n",
    "    def init():\n",
    "        for artist in (line1, line2, line3):\n",
    "            artist.set_data([], [])\n",
    "        for pt in (com1, com2, com3):\n",
    "            pt.set_data([], [])\n",
    "        return line1, line2, line3, com1, com2, com3\n",
    "\n",
    "    def frame(i):\n",
    "        theta1, theta2, theta3 = z[i,0], z[i,2], z[i,4]\n",
    "        O = np.array([0.0, 0.0])\n",
    "        P = np.array([l1*np.cos(theta1), l1*np.sin(theta1)])\n",
    "        Q = P + np.array([l2*np.cos(theta1+theta2), l2*np.sin(theta1+theta2)])\n",
    "        E = Q + np.array([l3*np.cos(theta1+theta2+theta3), l3*np.sin(theta1+theta2+theta3)])\n",
    "        G1 = np.array([0.5*l1*np.cos(theta1), 0.5*l1*np.sin(theta1)])\n",
    "        G2 = P + np.array([0.5*l2*np.cos(theta1+theta2), 0.5*l2*np.sin(theta1+theta2)])\n",
    "        G3 = Q + np.array([0.5*l3*np.cos(theta1+theta2+theta3), 0.5*l3*np.sin(theta1+theta2+theta3)])\n",
    "\n",
    "        line1.set_data([O[0], P[0]], [O[1], P[1]])\n",
    "        line2.set_data([P[0], Q[0]], [P[1], Q[1]])\n",
    "        line3.set_data([Q[0], E[0]], [Q[1], E[1]])\n",
    "        com1.set_data([G1[0]], [G1[1]])\n",
    "        com2.set_data([G2[0]], [G2[1]])\n",
    "        com3.set_data([G3[0]], [G3[1]])\n",
    "        return line1, line2, line3, com1, com2, com3\n",
    "\n",
    "    interval_ms = int(1000.0 * (t[1] - t[0]))\n",
    "    ani = animation.FuncAnimation(fig, frame, init_func=init, frames=len(t), interval=interval_ms, blit=True)\n",
    "    return ani"
   ]
  },
  {
   "cell_type": "markdown",
   "id": "2f890a77-b350-4d8a-8534-a52b1018aaff",
   "metadata": {},
   "source": [
    "## 3. Evaluation\n",
    "\n",
    "**simulate angles over time**\n",
    "- Create a time grid and zero initial state.\n",
    "- Integrate the dynamics to obtain `z(t)`.\n",
    "- Plot joint angles vs. time.\n",
    "- Output animation in GIF.\n"
   ]
  },
  {
   "cell_type": "code",
   "execution_count": null,
   "id": "0e4e5fd3-53a5-4074-a8e7-e3b55a39f8ca",
   "metadata": {},
   "outputs": [],
   "source": [
    "p = Parameters()\n",
    "t = np.linspace(0, 10, 201)   # (m,) seconds\n",
    "z0 = np.zeros(6)              # (6,) initial state\n",
    "\n",
    "z = simulate(t, z0, p)        # (m,6)\n",
    "\n",
    "plt.figure()\n",
    "plt.plot(t, z[:,0], label='theta1 [rad]')\n",
    "plt.plot(t, z[:,2], label='theta2 [rad]')\n",
    "plt.plot(t, z[:,4], label='theta3 [rad]')\n",
    "plt.xlabel('t [s]'); plt.ylabel('angle [rad]'); plt.legend(); plt.grid(True); plt.show()"
   ]
  },
  {
   "cell_type": "code",
   "execution_count": null,
   "id": "5175439a-14e7-447d-bdd6-7cac29d15119",
   "metadata": {},
   "outputs": [],
   "source": [
    "ani = animate_planar_3R(t, z, p)\n",
    "HTML(ani.to_jshtml())"
   ]
  },
  {
   "cell_type": "markdown",
   "id": "ae39dc4e-4e30-498f-9f94-323dcdcbefba",
   "metadata": {},
   "source": [
    "**energy curves**\n",
    "\n",
    "Compute and visualize `KE`, `PE`, and `TE` over time to sanity-check energy behavior (expect mild numerical drift only).\n"
   ]
  },
  {
   "cell_type": "code",
   "execution_count": null,
   "id": "f0904ce1-4c29-43a9-ba53-54cd1b58e88d",
   "metadata": {},
   "outputs": [],
   "source": [
    "KE, PE, TE = energy(t, z, p)\n",
    "plt.figure()\n",
    "plt.plot(t, KE, label='KE [J]')\n",
    "plt.plot(t, PE, label='PE [J]')\n",
    "plt.plot(t, TE, label='TE [J]')\n",
    "plt.xlabel('t [s]'); plt.ylabel('Energy [J]'); plt.legend(); plt.grid(True); plt.show()"
   ]
  },
  {
   "cell_type": "code",
   "execution_count": null,
   "id": "f6400bcb-f21b-4e94-a4a1-fef6a666d72a",
   "metadata": {},
   "outputs": [],
   "source": []
  }
 ],
 "metadata": {
  "kernelspec": {
   "display_name": "Python 3 (ipykernel)",
   "language": "python",
   "name": "python3"
  },
  "language_info": {
   "codemirror_mode": {
    "name": "ipython",
    "version": 3
   },
   "file_extension": ".py",
   "mimetype": "text/x-python",
   "name": "python",
   "nbconvert_exporter": "python",
   "pygments_lexer": "ipython3",
   "version": "3.8.10"
  }
 },
 "nbformat": 4,
 "nbformat_minor": 5
}
